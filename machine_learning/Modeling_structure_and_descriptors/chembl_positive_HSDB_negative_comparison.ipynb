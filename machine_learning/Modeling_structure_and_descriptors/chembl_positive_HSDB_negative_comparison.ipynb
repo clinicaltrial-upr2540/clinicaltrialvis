{
 "cells": [
  {
   "cell_type": "markdown",
   "metadata": {},
   "source": [
    "Load libraries"
   ]
  },
  {
   "cell_type": "code",
   "execution_count": 1,
   "metadata": {},
   "outputs": [],
   "source": [
    "import pandas as pd\n",
    "import json\n",
    "import requests"
   ]
  },
  {
   "cell_type": "markdown",
   "metadata": {},
   "source": [
    "Load data. hsdb-smiles is a non-bioavailable (BA) dataset. BA-Chembl-all-phases is a bioavailable (BA) dataset"
   ]
  },
  {
   "cell_type": "code",
   "execution_count": 2,
   "metadata": {},
   "outputs": [
    {
     "data": {
      "text/html": [
       "<div>\n",
       "<style scoped>\n",
       "    .dataframe tbody tr th:only-of-type {\n",
       "        vertical-align: middle;\n",
       "    }\n",
       "\n",
       "    .dataframe tbody tr th {\n",
       "        vertical-align: top;\n",
       "    }\n",
       "\n",
       "    .dataframe thead th {\n",
       "        text-align: right;\n",
       "    }\n",
       "</style>\n",
       "<table border=\"1\" class=\"dataframe\">\n",
       "  <thead>\n",
       "    <tr style=\"text-align: right;\">\n",
       "      <th></th>\n",
       "      <th>ID</th>\n",
       "      <th>Name</th>\n",
       "      <th>Smiles</th>\n",
       "    </tr>\n",
       "  </thead>\n",
       "  <tbody>\n",
       "    <tr>\n",
       "      <th>0</th>\n",
       "      <td>HSDB0001</td>\n",
       "      <td>HYOSCYAMINE</td>\n",
       "      <td>CN1C2CCC1CC(C2)OC(=O)C(CO)C3=CC=CC=C3</td>\n",
       "    </tr>\n",
       "    <tr>\n",
       "      <th>1</th>\n",
       "      <td>HSDB0002</td>\n",
       "      <td>OXYPEUCEDANIN</td>\n",
       "      <td>CC1(C(O1)COC2=C3C=CC(=O)OC3=CC4=C2C=CO4)C</td>\n",
       "    </tr>\n",
       "    <tr>\n",
       "      <th>2</th>\n",
       "      <td>HSDB0003</td>\n",
       "      <td>RETRONECINE</td>\n",
       "      <td>C1CN2CC=C(C2C1O)CO</td>\n",
       "    </tr>\n",
       "    <tr>\n",
       "      <th>3</th>\n",
       "      <td>HSDB0004</td>\n",
       "      <td>1,1,1,2,3,3,3-HEPTAFLUOROPROPANE</td>\n",
       "      <td>C(C(F)(F)F)(C(F)(F)F)F</td>\n",
       "    </tr>\n",
       "    <tr>\n",
       "      <th>4</th>\n",
       "      <td>HSDB0005</td>\n",
       "      <td>1,1,1,2-TETRACHLORO-2,2-DIFLUOROETHANE</td>\n",
       "      <td>C(C(Cl)(Cl)Cl)(F)(F)Cl</td>\n",
       "    </tr>\n",
       "  </tbody>\n",
       "</table>\n",
       "</div>"
      ],
      "text/plain": [
       "         ID                                    Name  \\\n",
       "0  HSDB0001                             HYOSCYAMINE   \n",
       "1  HSDB0002                           OXYPEUCEDANIN   \n",
       "2  HSDB0003                             RETRONECINE   \n",
       "3  HSDB0004        1,1,1,2,3,3,3-HEPTAFLUOROPROPANE   \n",
       "4  HSDB0005  1,1,1,2-TETRACHLORO-2,2-DIFLUOROETHANE   \n",
       "\n",
       "                                      Smiles  \n",
       "0      CN1C2CCC1CC(C2)OC(=O)C(CO)C3=CC=CC=C3  \n",
       "1  CC1(C(O1)COC2=C3C=CC(=O)OC3=CC4=C2C=CO4)C  \n",
       "2                         C1CN2CC=C(C2C1O)CO  \n",
       "3                     C(C(F)(F)F)(C(F)(F)F)F  \n",
       "4                     C(C(Cl)(Cl)Cl)(F)(F)Cl  "
      ]
     },
     "execution_count": 2,
     "metadata": {},
     "output_type": "execute_result"
    }
   ],
   "source": [
    "df_hsdb = pd.read_csv('hsbd-smiles.csv',header=None, usecols=[0, 1,2], names=['ID','Name', 'Smiles'])\n",
    "df_hsdb.head()"
   ]
  },
  {
   "cell_type": "code",
   "execution_count": 3,
   "metadata": {},
   "outputs": [
    {
     "data": {
      "text/html": [
       "<div>\n",
       "<style scoped>\n",
       "    .dataframe tbody tr th:only-of-type {\n",
       "        vertical-align: middle;\n",
       "    }\n",
       "\n",
       "    .dataframe tbody tr th {\n",
       "        vertical-align: top;\n",
       "    }\n",
       "\n",
       "    .dataframe thead th {\n",
       "        text-align: right;\n",
       "    }\n",
       "</style>\n",
       "<table border=\"1\" class=\"dataframe\">\n",
       "  <thead>\n",
       "    <tr style=\"text-align: right;\">\n",
       "      <th></th>\n",
       "      <th>ID</th>\n",
       "      <th>Name</th>\n",
       "      <th>Smiles</th>\n",
       "    </tr>\n",
       "  </thead>\n",
       "  <tbody>\n",
       "    <tr>\n",
       "      <th>0</th>\n",
       "      <td>650400</td>\n",
       "      <td>1-(3,4-DICHLOROPHENYL)-6-(METHOXYMETHYL)-3-AZA...</td>\n",
       "      <td>COC[C@@]12CNCC[C@]1(c1ccc(Cl)c(Cl)c1)C2</td>\n",
       "    </tr>\n",
       "    <tr>\n",
       "      <th>1</th>\n",
       "      <td>1741751</td>\n",
       "      <td>13-DEOXYDOXORUBICIN</td>\n",
       "      <td>COc1cccc2c1C(=O)c1c(O)c3c(c(O)c1C2=O)C[C@@](O)...</td>\n",
       "    </tr>\n",
       "    <tr>\n",
       "      <th>2</th>\n",
       "      <td>508683</td>\n",
       "      <td>16.ALPHA.-BROMOEPIANDROSTERONE</td>\n",
       "      <td>C[C@]12CC[C@H]3[C@@H](CC[C@H]4C[C@@H](O)CC[C@@...</td>\n",
       "    </tr>\n",
       "    <tr>\n",
       "      <th>3</th>\n",
       "      <td>447768</td>\n",
       "      <td>[18F]D</td>\n",
       "      <td>CCN(CC)C(=O)Cc1c(-c2ccc(OCCF)cc2)nn2c(C)cc(C)nc12</td>\n",
       "    </tr>\n",
       "    <tr>\n",
       "      <th>4</th>\n",
       "      <td>448378</td>\n",
       "      <td>[18F]DPA-714</td>\n",
       "      <td>CCN(CC)C(=O)Cc1c(-c2ccc(OCC[18F])cc2)nn2c(C)cc...</td>\n",
       "    </tr>\n",
       "  </tbody>\n",
       "</table>\n",
       "</div>"
      ],
      "text/plain": [
       "        ID                                               Name  \\\n",
       "0   650400  1-(3,4-DICHLOROPHENYL)-6-(METHOXYMETHYL)-3-AZA...   \n",
       "1  1741751                                13-DEOXYDOXORUBICIN   \n",
       "2   508683                     16.ALPHA.-BROMOEPIANDROSTERONE   \n",
       "3   447768                                             [18F]D   \n",
       "4   448378                                       [18F]DPA-714   \n",
       "\n",
       "                                              Smiles  \n",
       "0            COC[C@@]12CNCC[C@]1(c1ccc(Cl)c(Cl)c1)C2  \n",
       "1  COc1cccc2c1C(=O)c1c(O)c3c(c(O)c1C2=O)C[C@@](O)...  \n",
       "2  C[C@]12CC[C@H]3[C@@H](CC[C@H]4C[C@@H](O)CC[C@@...  \n",
       "3  CCN(CC)C(=O)Cc1c(-c2ccc(OCCF)cc2)nn2c(C)cc(C)nc12  \n",
       "4  CCN(CC)C(=O)Cc1c(-c2ccc(OCC[18F])cc2)nn2c(C)cc...  "
      ]
     },
     "execution_count": 3,
     "metadata": {},
     "output_type": "execute_result"
    }
   ],
   "source": [
    "df_chembl_ba = pd.read_csv('BA-Chembl-all-phases.csv',header=None, usecols=[0,1,2], names=['ID','Name', 'Smiles'])\n",
    "df_chembl_ba.head()"
   ]
  },
  {
   "cell_type": "markdown",
   "metadata": {},
   "source": [
    "Check the length of the datasets"
   ]
  },
  {
   "cell_type": "code",
   "execution_count": 4,
   "metadata": {},
   "outputs": [
    {
     "data": {
      "text/plain": [
       "3858"
      ]
     },
     "execution_count": 4,
     "metadata": {},
     "output_type": "execute_result"
    }
   ],
   "source": [
    "len(df_chembl_ba)"
   ]
  },
  {
   "cell_type": "code",
   "execution_count": 5,
   "metadata": {},
   "outputs": [
    {
     "data": {
      "text/plain": [
       "3550"
      ]
     },
     "execution_count": 5,
     "metadata": {},
     "output_type": "execute_result"
    }
   ],
   "source": [
    "len(df_hsdb)"
   ]
  },
  {
   "cell_type": "markdown",
   "metadata": {},
   "source": [
    "Calculate the difference between the datasets"
   ]
  },
  {
   "cell_type": "code",
   "execution_count": 6,
   "metadata": {},
   "outputs": [],
   "source": [
    "def dataframe_difference(df1, df2, which=None):\n",
    "    \"\"\"Find rows which are different between two DataFrames.\"\"\"\n",
    "    comparison_df = df1.merge(df2,\n",
    "                              on=['Smiles'],\n",
    "                              indicator=True,\n",
    "                              how='outer')\n",
    "    if which is None:\n",
    "        diff_df = comparison_df[comparison_df['Smiles'] != 'both']\n",
    "    else:\n",
    "        diff_df = comparison_df[comparison_df['Smiles'] == which]\n",
    "    diff_df.to_csv('diff.csv')\n",
    "    return diff_df"
   ]
  },
  {
   "cell_type": "markdown",
   "metadata": {},
   "source": [
    "Merge the files and then create a dataframe with the data that are in both datasets"
   ]
  },
  {
   "cell_type": "code",
   "execution_count": 7,
   "metadata": {},
   "outputs": [],
   "source": [
    "df_merged = dataframe_difference(df_hsdb, df_chembl_ba)"
   ]
  },
  {
   "cell_type": "code",
   "execution_count": 8,
   "metadata": {},
   "outputs": [
    {
     "data": {
      "text/plain": [
       "20"
      ]
     },
     "execution_count": 8,
     "metadata": {},
     "output_type": "execute_result"
    }
   ],
   "source": [
    "df_filter_both_merged = df_merged['_merge'] == 'both'\n",
    "\n",
    "df_both_merged = df_merged[df_filter_both_merged]\n",
    "len(df_both_merged)"
   ]
  },
  {
   "cell_type": "code",
   "execution_count": 9,
   "metadata": {},
   "outputs": [],
   "source": [
    "df_merged_pure = df_both_merged.drop(columns='_merge')"
   ]
  },
  {
   "cell_type": "code",
   "execution_count": 10,
   "metadata": {},
   "outputs": [
    {
     "data": {
      "text/html": [
       "<div>\n",
       "<style scoped>\n",
       "    .dataframe tbody tr th:only-of-type {\n",
       "        vertical-align: middle;\n",
       "    }\n",
       "\n",
       "    .dataframe tbody tr th {\n",
       "        vertical-align: top;\n",
       "    }\n",
       "\n",
       "    .dataframe thead th {\n",
       "        text-align: right;\n",
       "    }\n",
       "</style>\n",
       "<table border=\"1\" class=\"dataframe\">\n",
       "  <thead>\n",
       "    <tr style=\"text-align: right;\">\n",
       "      <th></th>\n",
       "      <th>ID_x</th>\n",
       "      <th>Name_x</th>\n",
       "      <th>Smiles</th>\n",
       "      <th>ID_y</th>\n",
       "      <th>Name_y</th>\n",
       "    </tr>\n",
       "  </thead>\n",
       "  <tbody>\n",
       "    <tr>\n",
       "      <th>261</th>\n",
       "      <td>HSDB0240</td>\n",
       "      <td>1-METHYL-2-PYRROLIDINONE</td>\n",
       "      <td>CN1CCCC1=O</td>\n",
       "      <td>10276.0</td>\n",
       "      <td>METHYLPYRROLIDONE</td>\n",
       "    </tr>\n",
       "    <tr>\n",
       "      <th>280</th>\n",
       "      <td>HSDB0257</td>\n",
       "      <td>1-OCTANOL</td>\n",
       "      <td>CCCCCCCCO</td>\n",
       "      <td>32815.0</td>\n",
       "      <td>OCTANOL</td>\n",
       "    </tr>\n",
       "    <tr>\n",
       "      <th>497</th>\n",
       "      <td>HSDB0457</td>\n",
       "      <td>2-DIMETHYLAMINOETHANOL</td>\n",
       "      <td>CN(C)CCO</td>\n",
       "      <td>171436.0</td>\n",
       "      <td>DIMETHYLAMINOETHANOL</td>\n",
       "    </tr>\n",
       "    <tr>\n",
       "      <th>819</th>\n",
       "      <td>HSDB0771</td>\n",
       "      <td>ACESULFAME</td>\n",
       "      <td>CC1=CC(=O)NS(=O)(=O)O1</td>\n",
       "      <td>292300.0</td>\n",
       "      <td>ACESULFAME</td>\n",
       "    </tr>\n",
       "    <tr>\n",
       "      <th>1395</th>\n",
       "      <td>HSDB1326</td>\n",
       "      <td>CREATINE</td>\n",
       "      <td>CN(CC(=O)O)C(=N)N</td>\n",
       "      <td>25249.0</td>\n",
       "      <td>CREATINE</td>\n",
       "    </tr>\n",
       "    <tr>\n",
       "      <th>1427</th>\n",
       "      <td>HSDB1354</td>\n",
       "      <td>CYCLOHEXANE</td>\n",
       "      <td>C1CCCCC1</td>\n",
       "      <td>16602.0</td>\n",
       "      <td>CYCLOHEXANE</td>\n",
       "    </tr>\n",
       "    <tr>\n",
       "      <th>1428</th>\n",
       "      <td>HSDB2025</td>\n",
       "      <td>HEXAMETHYLENE</td>\n",
       "      <td>C1CCCCC1</td>\n",
       "      <td>16602.0</td>\n",
       "      <td>CYCLOHEXANE</td>\n",
       "    </tr>\n",
       "    <tr>\n",
       "      <th>1620</th>\n",
       "      <td>HSDB1546</td>\n",
       "      <td>DIETHYL</td>\n",
       "      <td>CCCC</td>\n",
       "      <td>222085.0</td>\n",
       "      <td>BUTANE</td>\n",
       "    </tr>\n",
       "    <tr>\n",
       "      <th>1621</th>\n",
       "      <td>HSDB2468</td>\n",
       "      <td>N-BUTANE</td>\n",
       "      <td>CCCC</td>\n",
       "      <td>222085.0</td>\n",
       "      <td>BUTANE</td>\n",
       "    </tr>\n",
       "    <tr>\n",
       "      <th>1622</th>\n",
       "      <td>HSDB1547</td>\n",
       "      <td>DIETHYLAMINE</td>\n",
       "      <td>CCNCC</td>\n",
       "      <td>199817.0</td>\n",
       "      <td>DIETHYLAMINE</td>\n",
       "    </tr>\n",
       "    <tr>\n",
       "      <th>1674</th>\n",
       "      <td>HSDB1605</td>\n",
       "      <td>DIMETHYL</td>\n",
       "      <td>CC</td>\n",
       "      <td>222053.0</td>\n",
       "      <td>ETHANE</td>\n",
       "    </tr>\n",
       "    <tr>\n",
       "      <th>1675</th>\n",
       "      <td>HSDB1760</td>\n",
       "      <td>ETHANE</td>\n",
       "      <td>CC</td>\n",
       "      <td>222053.0</td>\n",
       "      <td>ETHANE</td>\n",
       "    </tr>\n",
       "    <tr>\n",
       "      <th>1718</th>\n",
       "      <td>HSDB1652</td>\n",
       "      <td>DISULFIRAM</td>\n",
       "      <td>CCN(CC)C(=S)SSC(=S)N(CC)CC</td>\n",
       "      <td>94571.0</td>\n",
       "      <td>DISULFIRAM</td>\n",
       "    </tr>\n",
       "    <tr>\n",
       "      <th>1842</th>\n",
       "      <td>HSDB1776</td>\n",
       "      <td>ETHION</td>\n",
       "      <td>CCOP(=S)(OCC)SCSP(=S)(OCC)OCC</td>\n",
       "      <td>1094148.0</td>\n",
       "      <td>ETHION</td>\n",
       "    </tr>\n",
       "    <tr>\n",
       "      <th>1864</th>\n",
       "      <td>HSDB1797</td>\n",
       "      <td>ETHYLENE</td>\n",
       "      <td>C=C</td>\n",
       "      <td>190956.0</td>\n",
       "      <td>ETHYLENE</td>\n",
       "    </tr>\n",
       "    <tr>\n",
       "      <th>1865</th>\n",
       "      <td>HSDB2912</td>\n",
       "      <td>POLYETHYLENE</td>\n",
       "      <td>C=C</td>\n",
       "      <td>190956.0</td>\n",
       "      <td>ETHYLENE</td>\n",
       "    </tr>\n",
       "    <tr>\n",
       "      <th>2302</th>\n",
       "      <td>HSDB2240</td>\n",
       "      <td>LIME</td>\n",
       "      <td>O=[Ca]</td>\n",
       "      <td>1376667.0</td>\n",
       "      <td>LIME</td>\n",
       "    </tr>\n",
       "    <tr>\n",
       "      <th>2703</th>\n",
       "      <td>HSDB2659</td>\n",
       "      <td>O-METHYLHYDROXYLAMINE</td>\n",
       "      <td>CON</td>\n",
       "      <td>685478.0</td>\n",
       "      <td>METHOXYAMINE</td>\n",
       "    </tr>\n",
       "    <tr>\n",
       "      <th>3395</th>\n",
       "      <td>HSDB3385</td>\n",
       "      <td>TRIBUTYRIN</td>\n",
       "      <td>CCCC(=O)OCC(COC(=O)CCC)OC(=O)CCC</td>\n",
       "      <td>196488.0</td>\n",
       "      <td>TRIBUTYRIN</td>\n",
       "    </tr>\n",
       "    <tr>\n",
       "      <th>3396</th>\n",
       "      <td>HSDB3386</td>\n",
       "      <td>TRICAPRYLIN</td>\n",
       "      <td>CCCCCCCC(=O)OCC(COC(=O)CCCCCCC)OC(=O)CCCCCCC</td>\n",
       "      <td>830032.0</td>\n",
       "      <td>TRICAPRILIN</td>\n",
       "    </tr>\n",
       "  </tbody>\n",
       "</table>\n",
       "</div>"
      ],
      "text/plain": [
       "          ID_x                    Name_x  \\\n",
       "261   HSDB0240  1-METHYL-2-PYRROLIDINONE   \n",
       "280   HSDB0257                 1-OCTANOL   \n",
       "497   HSDB0457    2-DIMETHYLAMINOETHANOL   \n",
       "819   HSDB0771                ACESULFAME   \n",
       "1395  HSDB1326                  CREATINE   \n",
       "1427  HSDB1354               CYCLOHEXANE   \n",
       "1428  HSDB2025             HEXAMETHYLENE   \n",
       "1620  HSDB1546                   DIETHYL   \n",
       "1621  HSDB2468                  N-BUTANE   \n",
       "1622  HSDB1547              DIETHYLAMINE   \n",
       "1674  HSDB1605                  DIMETHYL   \n",
       "1675  HSDB1760                    ETHANE   \n",
       "1718  HSDB1652                DISULFIRAM   \n",
       "1842  HSDB1776                    ETHION   \n",
       "1864  HSDB1797                  ETHYLENE   \n",
       "1865  HSDB2912              POLYETHYLENE   \n",
       "2302  HSDB2240                      LIME   \n",
       "2703  HSDB2659     O-METHYLHYDROXYLAMINE   \n",
       "3395  HSDB3385                TRIBUTYRIN   \n",
       "3396  HSDB3386               TRICAPRYLIN   \n",
       "\n",
       "                                            Smiles       ID_y  \\\n",
       "261                                     CN1CCCC1=O    10276.0   \n",
       "280                                      CCCCCCCCO    32815.0   \n",
       "497                                       CN(C)CCO   171436.0   \n",
       "819                         CC1=CC(=O)NS(=O)(=O)O1   292300.0   \n",
       "1395                             CN(CC(=O)O)C(=N)N    25249.0   \n",
       "1427                                      C1CCCCC1    16602.0   \n",
       "1428                                      C1CCCCC1    16602.0   \n",
       "1620                                          CCCC   222085.0   \n",
       "1621                                          CCCC   222085.0   \n",
       "1622                                         CCNCC   199817.0   \n",
       "1674                                            CC   222053.0   \n",
       "1675                                            CC   222053.0   \n",
       "1718                    CCN(CC)C(=S)SSC(=S)N(CC)CC    94571.0   \n",
       "1842                 CCOP(=S)(OCC)SCSP(=S)(OCC)OCC  1094148.0   \n",
       "1864                                           C=C   190956.0   \n",
       "1865                                           C=C   190956.0   \n",
       "2302                                        O=[Ca]  1376667.0   \n",
       "2703                                           CON   685478.0   \n",
       "3395              CCCC(=O)OCC(COC(=O)CCC)OC(=O)CCC   196488.0   \n",
       "3396  CCCCCCCC(=O)OCC(COC(=O)CCCCCCC)OC(=O)CCCCCCC   830032.0   \n",
       "\n",
       "                    Name_y  \n",
       "261      METHYLPYRROLIDONE  \n",
       "280                OCTANOL  \n",
       "497   DIMETHYLAMINOETHANOL  \n",
       "819             ACESULFAME  \n",
       "1395              CREATINE  \n",
       "1427           CYCLOHEXANE  \n",
       "1428           CYCLOHEXANE  \n",
       "1620                BUTANE  \n",
       "1621                BUTANE  \n",
       "1622          DIETHYLAMINE  \n",
       "1674                ETHANE  \n",
       "1675                ETHANE  \n",
       "1718            DISULFIRAM  \n",
       "1842                ETHION  \n",
       "1864              ETHYLENE  \n",
       "1865              ETHYLENE  \n",
       "2302                  LIME  \n",
       "2703          METHOXYAMINE  \n",
       "3395            TRIBUTYRIN  \n",
       "3396           TRICAPRILIN  "
      ]
     },
     "execution_count": 10,
     "metadata": {},
     "output_type": "execute_result"
    }
   ],
   "source": [
    "df_merged_pure.head(20)"
   ]
  },
  {
   "cell_type": "markdown",
   "metadata": {},
   "source": [
    "Create a negative dataset without repeating elements"
   ]
  },
  {
   "cell_type": "code",
   "execution_count": 11,
   "metadata": {},
   "outputs": [
    {
     "data": {
      "text/plain": [
       "3530"
      ]
     },
     "execution_count": 11,
     "metadata": {},
     "output_type": "execute_result"
    }
   ],
   "source": [
    "df_merged_non_BA = dataframe_difference(df_hsdb, df_merged_pure)\n",
    "df_filter_diff_non_BA = df_merged_non_BA['_merge'] == 'left_only'\n",
    "\n",
    "df_only_in_non_BA = df_merged_non_BA[df_filter_diff_non_BA]\n",
    "len(df_only_in_non_BA)"
   ]
  },
  {
   "cell_type": "markdown",
   "metadata": {},
   "source": [
    "Create a positive dataset without repeating elements"
   ]
  },
  {
   "cell_type": "code",
   "execution_count": 12,
   "metadata": {},
   "outputs": [
    {
     "data": {
      "text/plain": [
       "3842"
      ]
     },
     "execution_count": 12,
     "metadata": {},
     "output_type": "execute_result"
    }
   ],
   "source": [
    "df_merged_BA = dataframe_difference(df_chembl_ba, df_merged_pure)\n",
    "df_filter_diff_BA = df_merged_BA['_merge'] == 'left_only'\n",
    "\n",
    "df_only_in_BA = df_merged_BA[df_filter_diff_BA]\n",
    "len(df_only_in_BA)"
   ]
  },
  {
   "cell_type": "markdown",
   "metadata": {},
   "source": [
    "Save both datasets into files"
   ]
  },
  {
   "cell_type": "code",
   "execution_count": 14,
   "metadata": {},
   "outputs": [],
   "source": [
    "header = ['ID', 'Name', 'Smiles']\n",
    "df_only_in_non_BA.to_csv('hsdb-smiles-no-repeat.csv', columns= header, index=False)\n",
    "df_only_in_BA.to_csv('BA-Chembl-4-phases-smiles-no-repeat.csv', columns= header, index=False)"
   ]
  }
 ],
 "metadata": {
  "kernelspec": {
   "display_name": "Python 3",
   "language": "python",
   "name": "python3"
  },
  "language_info": {
   "codemirror_mode": {
    "name": "ipython",
    "version": 3
   },
   "file_extension": ".py",
   "mimetype": "text/x-python",
   "name": "python",
   "nbconvert_exporter": "python",
   "pygments_lexer": "ipython3",
   "version": "3.6.9"
  }
 },
 "nbformat": 4,
 "nbformat_minor": 2
}
