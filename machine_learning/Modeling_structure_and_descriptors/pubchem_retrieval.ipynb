{
 "cells": [
  {
   "cell_type": "code",
   "execution_count": 1,
   "metadata": {},
   "outputs": [],
   "source": [
    "import pandas as pd\n",
    "import json\n",
    "import requests"
   ]
  },
  {
   "cell_type": "code",
   "execution_count": 2,
   "metadata": {},
   "outputs": [],
   "source": [
    "def log_url(api_name, url):\n",
    "    print('requesting %s url\\n %s' % (api_name, url))"
   ]
  },
  {
   "cell_type": "code",
   "execution_count": 3,
   "metadata": {},
   "outputs": [
    {
     "data": {
      "text/html": [
       "<div>\n",
       "<style scoped>\n",
       "    .dataframe tbody tr th:only-of-type {\n",
       "        vertical-align: middle;\n",
       "    }\n",
       "\n",
       "    .dataframe tbody tr th {\n",
       "        vertical-align: top;\n",
       "    }\n",
       "\n",
       "    .dataframe thead th {\n",
       "        text-align: right;\n",
       "    }\n",
       "</style>\n",
       "<table border=\"1\" class=\"dataframe\">\n",
       "  <thead>\n",
       "    <tr style=\"text-align: right;\">\n",
       "      <th></th>\n",
       "      <th>Name</th>\n",
       "      <th>Smiles</th>\n",
       "    </tr>\n",
       "  </thead>\n",
       "  <tbody>\n",
       "    <tr>\n",
       "      <th>0</th>\n",
       "      <td>HYOSCYAMINE</td>\n",
       "      <td>NaN</td>\n",
       "    </tr>\n",
       "    <tr>\n",
       "      <th>1</th>\n",
       "      <td>Oxypeucedanin</td>\n",
       "      <td>NaN</td>\n",
       "    </tr>\n",
       "    <tr>\n",
       "      <th>2</th>\n",
       "      <td>RETRONECINE</td>\n",
       "      <td>NaN</td>\n",
       "    </tr>\n",
       "    <tr>\n",
       "      <th>3</th>\n",
       "      <td>HYOSCYAMINE</td>\n",
       "      <td>NaN</td>\n",
       "    </tr>\n",
       "    <tr>\n",
       "      <th>4</th>\n",
       "      <td>1,1,1,2,3,3,3-Heptafluoropropane</td>\n",
       "      <td>NaN</td>\n",
       "    </tr>\n",
       "  </tbody>\n",
       "</table>\n",
       "</div>"
      ],
      "text/plain": [
       "                               Name Smiles\n",
       "0                       HYOSCYAMINE    NaN\n",
       "1                     Oxypeucedanin    NaN\n",
       "2                       RETRONECINE    NaN\n",
       "3                       HYOSCYAMINE    NaN\n",
       "4  1,1,1,2,3,3,3-Heptafluoropropane    NaN"
      ]
     },
     "execution_count": 3,
     "metadata": {},
     "output_type": "execute_result"
    }
   ],
   "source": [
    "df = pd.read_csv('hsdb_list.csv',header=None, usecols=[0,1], names=['Name', 'Smiles'])\n",
    "df.head()"
   ]
  },
  {
   "cell_type": "code",
   "execution_count": 4,
   "metadata": {},
   "outputs": [
    {
     "name": "stdout",
     "output_type": "stream",
     "text": [
      "Name      RETRONECINE\n",
      "Smiles            NaN\n",
      "Name: 2, dtype: object\n"
     ]
    }
   ],
   "source": [
    "print(df.iloc[2])"
   ]
  },
  {
   "cell_type": "code",
   "execution_count": 5,
   "metadata": {},
   "outputs": [],
   "source": [
    "for index, row in df.iterrows():\n",
    "    row['Name']=row['Name'].rstrip(',')"
   ]
  },
  {
   "cell_type": "code",
   "execution_count": 6,
   "metadata": {},
   "outputs": [],
   "source": [
    "df.drop_duplicates(subset =\"Name\", \n",
    "                     keep = 'first', inplace = True)"
   ]
  },
  {
   "cell_type": "code",
   "execution_count": 430,
   "metadata": {},
   "outputs": [
    {
     "data": {
      "text/plain": [
       "0                               HYOSCYAMINE\n",
       "1                             OXYPEUCEDANIN\n",
       "2                               RETRONECINE\n",
       "4          1,1,1,2,3,3,3-HEPTAFLUOROPROPANE\n",
       "5    1,1,1,2-TETRACHLORO-2,2-DIFLUOROETHANE\n",
       "Name: Name, dtype: object"
      ]
     },
     "execution_count": 430,
     "metadata": {},
     "output_type": "execute_result"
    }
   ],
   "source": [
    "df['Name'].apply(lambda x: x.upper()).head(5)"
   ]
  },
  {
   "cell_type": "code",
   "execution_count": 434,
   "metadata": {},
   "outputs": [],
   "source": [
    "df.drop_duplicates(subset =\"Name\", \n",
    "                     keep = 'first', inplace = True)"
   ]
  },
  {
   "cell_type": "code",
   "execution_count": 435,
   "metadata": {},
   "outputs": [
    {
     "name": "stdout",
     "output_type": "stream",
     "text": [
      "4601\n"
     ]
    }
   ],
   "source": [
    "print(len(df))"
   ]
  },
  {
   "cell_type": "code",
   "execution_count": 355,
   "metadata": {},
   "outputs": [
    {
     "data": {
      "text/html": [
       "<div>\n",
       "<style scoped>\n",
       "    .dataframe tbody tr th:only-of-type {\n",
       "        vertical-align: middle;\n",
       "    }\n",
       "\n",
       "    .dataframe tbody tr th {\n",
       "        vertical-align: top;\n",
       "    }\n",
       "\n",
       "    .dataframe thead th {\n",
       "        text-align: right;\n",
       "    }\n",
       "</style>\n",
       "<table border=\"1\" class=\"dataframe\">\n",
       "  <thead>\n",
       "    <tr style=\"text-align: right;\">\n",
       "      <th></th>\n",
       "      <th>Name</th>\n",
       "      <th>Smiles</th>\n",
       "    </tr>\n",
       "  </thead>\n",
       "  <tbody>\n",
       "    <tr>\n",
       "      <th>6044</th>\n",
       "      <td>ZIRAM</td>\n",
       "      <td>CN(C)C(=S)[S-].CN(C)C(=S)[S-].[Zn+2]</td>\n",
       "    </tr>\n",
       "    <tr>\n",
       "      <th>6045</th>\n",
       "      <td>ZIRCONIUM</td>\n",
       "      <td>[Zr]</td>\n",
       "    </tr>\n",
       "    <tr>\n",
       "      <th>6055</th>\n",
       "      <td>ZOLPIDEM</td>\n",
       "      <td>CC1=CC=C(C=C1)C2=C(N3C=C(C=CC3=N2)C)CC(=O)N(C)C</td>\n",
       "    </tr>\n",
       "    <tr>\n",
       "      <th>6056</th>\n",
       "      <td>ZONISAMIDE</td>\n",
       "      <td>C1=CC=C2C(=C1)C(=NO2)CS(=O)(=O)N</td>\n",
       "    </tr>\n",
       "    <tr>\n",
       "      <th>6057</th>\n",
       "      <td>Zoxamide</td>\n",
       "      <td>CCC(C)(C(=O)CCl)NC(=O)C1=CC(=C(C(=C1)Cl)C)Cl</td>\n",
       "    </tr>\n",
       "  </tbody>\n",
       "</table>\n",
       "</div>"
      ],
      "text/plain": [
       "            Name                                           Smiles\n",
       "6044       ZIRAM             CN(C)C(=S)[S-].CN(C)C(=S)[S-].[Zn+2]\n",
       "6045   ZIRCONIUM                                             [Zr]\n",
       "6055    ZOLPIDEM  CC1=CC=C(C=C1)C2=C(N3C=C(C=CC3=N2)C)CC(=O)N(C)C\n",
       "6056  ZONISAMIDE                 C1=CC=C2C(=C1)C(=NO2)CS(=O)(=O)N\n",
       "6057    Zoxamide     CCC(C)(C(=O)CCl)NC(=O)C1=CC(=C(C(=C1)Cl)C)Cl"
      ]
     },
     "execution_count": 355,
     "metadata": {},
     "output_type": "execute_result"
    }
   ],
   "source": [
    "df.tail()"
   ]
  },
  {
   "cell_type": "code",
   "execution_count": 356,
   "metadata": {},
   "outputs": [
    {
     "name": "stdout",
     "output_type": "stream",
     "text": [
      "4700\n"
     ]
    }
   ],
   "source": [
    "print(len(df))"
   ]
  },
  {
   "cell_type": "code",
   "execution_count": 350,
   "metadata": {},
   "outputs": [
    {
     "name": "stdout",
     "output_type": "stream",
     "text": [
      "Name      WEST\n",
      "Smiles        \n",
      "Name: 5981, dtype: object\n"
     ]
    }
   ],
   "source": [
    "print(df.iloc[4670])"
   ]
  },
  {
   "cell_type": "code",
   "execution_count": 21,
   "metadata": {},
   "outputs": [
    {
     "name": "stdout",
     "output_type": "stream",
     "text": [
      "false\n"
     ]
    }
   ],
   "source": [
    "import numpy as np\n",
    "def is_nan(x):\n",
    "    return (x is np.nan or x != x)"
   ]
  },
  {
   "cell_type": "code",
   "execution_count": 193,
   "metadata": {},
   "outputs": [
    {
     "name": "stdout",
     "output_type": "stream",
     "text": [
      "C(C(F)(F)F)(C(F)(F)F)F\n"
     ]
    }
   ],
   "source": [
    "\n",
    "hsdb_name = '1,1,1,2,3,3,3-Heptafluoropropane'\n",
    "\n",
    "def get_id(hsdb_name):\n",
    "    url = 'https://pubchem.ncbi.nlm.nih.gov/rest/pug/compound/name/' + hsdb_name +'/cids/TXT'\n",
    "    #log_url('pubchem', url)\n",
    "    chemical_response = requests.get(url)\n",
    "    chemical_response =chemical_response.content\n",
    "    columns = chemical_response.decode(\"utf-8\").split()\n",
    "    #ids =[print(i,) for i in columns]\n",
    "    #ids\n",
    "    #str1 = ','.join(str(e) for e in columns)\n",
    "    str1 = columns[0]\n",
    "    try:\n",
    "       num1 = int(str1)\n",
    "    except ValueError:\n",
    "       num1 = 'error'\n",
    "    if(isinstance(num1, int)): \n",
    "        url_json = 'https://pubchem.ncbi.nlm.nih.gov/rest/pug/compound/cid/' + str1 +'/record/JSON'\n",
    "        chemical_json_response = requests.get(url_json)\n",
    "        chemical_json = chemical_json_response.json()\n",
    "        smiles = chemical_json['PC_Compounds'][0]['props'][18]['value']\n",
    "    else: \n",
    "        smiles={'sval':''}\n",
    "    #print(smiles.get('sval'))\n",
    "    return smiles.get('sval')\n",
    "\n",
    "smile = get_id(hsdb_name)\n",
    "print(smile)"
   ]
  },
  {
   "cell_type": "code",
   "execution_count": 354,
   "metadata": {},
   "outputs": [],
   "source": [
    "for index, row in df.iterrows():\n",
    "    if(index in range (6059,6060)):\n",
    "        row['Smiles'] = get_id(row['Name'])\n",
    "        if index%10==0:\n",
    "            print('Treating the {}th index'.format(index))"
   ]
  },
  {
   "cell_type": "code",
   "execution_count": 220,
   "metadata": {},
   "outputs": [
    {
     "name": "stdout",
     "output_type": "stream",
     "text": [
      "b'73437646\\n73442840\\n45255840\\n'\n",
      "['73437646', '73442840', '45255840']\n",
      "73437646\n",
      "<class 'str'>\n",
      "{'sval': 'CC(C)CC1CN2CCC3=CC(=C(C=C3C2CC1=O)OC)OC'}\n"
     ]
    }
   ],
   "source": [
    "url = 'https://pubchem.ncbi.nlm.nih.gov/rest/pug/compound/name/' + 'Deutetrabenazine' +'/cids/TXT'\n",
    "\n",
    "chemical_response = requests.get(url)\n",
    "chemical_response =chemical_response.content\n",
    "print(chemical_response)\n",
    "columns = chemical_response.decode(\"utf-8\").split()\n",
    "print(columns)\n",
    "str1 = ','.join(str(e) for e in columns)\n",
    "print(columns[0])\n",
    "str1=columns[0]\n",
    "print(type(str1))\n",
    "num1 = int(str1)\n",
    "if(isinstance(num1, int)):\n",
    "        url_json = 'https://pubchem.ncbi.nlm.nih.gov/rest/pug/compound/cid/' + str1 +'/record/JSON'\n",
    "        chemical_json_response = requests.get(url_json)\n",
    "  \n",
    "        chemical_json = chemical_json_response.json()\n",
    "\n",
    "        smiles = chemical_json['PC_Compounds'][0]['props'][18]['value']\n",
    "        print(smiles)"
   ]
  },
  {
   "cell_type": "code",
   "execution_count": 12,
   "metadata": {},
   "outputs": [
    {
     "name": "stdout",
     "output_type": "stream",
     "text": [
      "Treating the 0th index\n",
      "Treating the 10th index\n",
      "Treating the 20th index\n",
      "Treating the 30th index\n",
      "Treating the 40th index\n",
      "Treating the 50th index\n",
      "Treating the 60th index\n",
      "Treating the 70th index\n",
      "Treating the 80th index\n",
      "Treating the 90th index\n",
      "Treating the 100th index\n",
      "Treating the 110th index\n",
      "Treating the 120th index\n",
      "Treating the 130th index\n",
      "Treating the 140th index\n",
      "Treating the 150th index\n",
      "Treating the 160th index\n",
      "Treating the 170th index\n",
      "Treating the 180th index\n",
      "Treating the 190th index\n",
      "Treating the 200th index\n",
      "Treating the 210th index\n",
      "Treating the 220th index\n",
      "Treating the 230th index\n",
      "Treating the 240th index\n",
      "Treating the 250th index\n",
      "Treating the 260th index\n"
     ]
    },
    {
     "ename": "KeyError",
     "evalue": "'PC_Compounds'",
     "output_type": "error",
     "traceback": [
      "\u001b[0;31m---------------------------------------------------------------------------\u001b[0m",
      "\u001b[0;31mKeyError\u001b[0m                                  Traceback (most recent call last)",
      "\u001b[0;32m<ipython-input-12-5cdcf38a86f7>\u001b[0m in \u001b[0;36m<module>\u001b[0;34m\u001b[0m\n\u001b[1;32m      1\u001b[0m \u001b[0;32mfor\u001b[0m \u001b[0mindex\u001b[0m\u001b[0;34m,\u001b[0m \u001b[0mrow\u001b[0m \u001b[0;32min\u001b[0m \u001b[0mdf\u001b[0m\u001b[0;34m.\u001b[0m\u001b[0miterrows\u001b[0m\u001b[0;34m(\u001b[0m\u001b[0;34m)\u001b[0m\u001b[0;34m:\u001b[0m\u001b[0;34m\u001b[0m\u001b[0;34m\u001b[0m\u001b[0m\n\u001b[0;32m----> 2\u001b[0;31m     \u001b[0mrow\u001b[0m\u001b[0;34m[\u001b[0m\u001b[0;34m'Smiles'\u001b[0m\u001b[0;34m]\u001b[0m \u001b[0;34m=\u001b[0m \u001b[0mget_id\u001b[0m\u001b[0;34m(\u001b[0m\u001b[0mrow\u001b[0m\u001b[0;34m[\u001b[0m\u001b[0;34m'Name'\u001b[0m\u001b[0;34m]\u001b[0m\u001b[0;34m)\u001b[0m\u001b[0;34m\u001b[0m\u001b[0;34m\u001b[0m\u001b[0m\n\u001b[0m\u001b[1;32m      3\u001b[0m     \u001b[0;32mif\u001b[0m \u001b[0mindex\u001b[0m\u001b[0;34m%\u001b[0m\u001b[0;36m10\u001b[0m\u001b[0;34m==\u001b[0m\u001b[0;36m0\u001b[0m\u001b[0;34m:\u001b[0m\u001b[0;34m\u001b[0m\u001b[0;34m\u001b[0m\u001b[0m\n\u001b[1;32m      4\u001b[0m         \u001b[0mprint\u001b[0m\u001b[0;34m(\u001b[0m\u001b[0;34m'Treating the {}th index'\u001b[0m\u001b[0;34m.\u001b[0m\u001b[0mformat\u001b[0m\u001b[0;34m(\u001b[0m\u001b[0mindex\u001b[0m\u001b[0;34m)\u001b[0m\u001b[0;34m)\u001b[0m\u001b[0;34m\u001b[0m\u001b[0;34m\u001b[0m\u001b[0m\n",
      "\u001b[0;32m<ipython-input-11-c2d85988352b>\u001b[0m in \u001b[0;36mget_id\u001b[0;34m(hsdb_name)\u001b[0m\n\u001b[1;32m     13\u001b[0m     \u001b[0mchemical_json_response\u001b[0m \u001b[0;34m=\u001b[0m \u001b[0mrequests\u001b[0m\u001b[0;34m.\u001b[0m\u001b[0mget\u001b[0m\u001b[0;34m(\u001b[0m\u001b[0murl_json\u001b[0m\u001b[0;34m)\u001b[0m\u001b[0;34m\u001b[0m\u001b[0;34m\u001b[0m\u001b[0m\n\u001b[1;32m     14\u001b[0m     \u001b[0mchemical_json\u001b[0m \u001b[0;34m=\u001b[0m \u001b[0mchemical_json_response\u001b[0m\u001b[0;34m.\u001b[0m\u001b[0mjson\u001b[0m\u001b[0;34m(\u001b[0m\u001b[0;34m)\u001b[0m\u001b[0;34m\u001b[0m\u001b[0;34m\u001b[0m\u001b[0m\n\u001b[0;32m---> 15\u001b[0;31m     \u001b[0msmiles\u001b[0m \u001b[0;34m=\u001b[0m \u001b[0mchemical_json\u001b[0m\u001b[0;34m[\u001b[0m\u001b[0;34m'PC_Compounds'\u001b[0m\u001b[0;34m]\u001b[0m\u001b[0;34m[\u001b[0m\u001b[0;36m0\u001b[0m\u001b[0;34m]\u001b[0m\u001b[0;34m[\u001b[0m\u001b[0;34m'props'\u001b[0m\u001b[0;34m]\u001b[0m\u001b[0;34m[\u001b[0m\u001b[0;36m18\u001b[0m\u001b[0;34m]\u001b[0m\u001b[0;34m[\u001b[0m\u001b[0;34m'value'\u001b[0m\u001b[0;34m]\u001b[0m\u001b[0;34m\u001b[0m\u001b[0;34m\u001b[0m\u001b[0m\n\u001b[0m\u001b[1;32m     16\u001b[0m     \u001b[0;31m#print(smiles.get('sval'))\u001b[0m\u001b[0;34m\u001b[0m\u001b[0;34m\u001b[0m\u001b[0;34m\u001b[0m\u001b[0m\n\u001b[1;32m     17\u001b[0m     \u001b[0;32mreturn\u001b[0m \u001b[0msmiles\u001b[0m\u001b[0;34m.\u001b[0m\u001b[0mget\u001b[0m\u001b[0;34m(\u001b[0m\u001b[0;34m'sval'\u001b[0m\u001b[0;34m)\u001b[0m\u001b[0;34m\u001b[0m\u001b[0;34m\u001b[0m\u001b[0m\n",
      "\u001b[0;31mKeyError\u001b[0m: 'PC_Compounds'"
     ]
    }
   ],
   "source": [
    "for index, row in df.iterrows():\n",
    "    row['Smiles'] = get_id(row['Name'])\n",
    "    if index%10==0:\n",
    "        print('Treating the {}th index'.format(index))\n"
   ]
  },
  {
   "cell_type": "code",
   "execution_count": null,
   "metadata": {},
   "outputs": [],
   "source": [
    "#for testing\n",
    "#https://pubchem.ncbi.nlm.nih.gov/rest/pug/compound/name/Deutetrabenazine/cids/TXT\n",
    "#https://pubchem.ncbi.nlm.nih.gov/rest/pug/compound/cid/73437646/record/JSON\n",
    "#Deutetrabenazine\n",
    "#CHLORAMINE, \n",
    "#DEUTERIUM bad record, no 18 element\n",
    "#Disodium\n",
    "#Disulfur\n",
    "#Iodobromine\n",
    "#Maitotoxin\n",
    "#Tritium"
   ]
  },
  {
   "cell_type": "code",
   "execution_count": 365,
   "metadata": {},
   "outputs": [
    {
     "name": "stdout",
     "output_type": "stream",
     "text": [
      "91\n"
     ]
    }
   ],
   "source": [
    "print(ord('['))"
   ]
  },
  {
   "cell_type": "code",
   "execution_count": 395,
   "metadata": {},
   "outputs": [],
   "source": [
    "df_smiles = df\n",
    "df_filter_empty_smiles = df['Smiles'] != ''\n",
    "df_no_empty_smiles = df[df_filter_empty_smiles]\n",
    "#df_filter_no_smiles = filter(lambda x: x.startswith('['), df['Smiles'])\n",
    "#df_no_smiles_values = df_no_empty_smiles[df_filter_empty_smiles]\n",
    "\n",
    "df_no_empty_smiles['Name'].apply(lambda x: x.upper()).head(5)\n",
    "df_no_invalid_smiles = df_no_empty_smiles[df_no_empty_smiles['Smiles'].values.astype('<U1') != '[']"
   ]
  },
  {
   "cell_type": "code",
   "execution_count": 396,
   "metadata": {},
   "outputs": [
    {
     "name": "stderr",
     "output_type": "stream",
     "text": [
      "/Users/jelena/anaconda3/envs/py36/lib/python3.6/site-packages/ipykernel_launcher.py:2: SettingWithCopyWarning: \n",
      "A value is trying to be set on a copy of a slice from a DataFrame\n",
      "\n",
      "See the caveats in the documentation: http://pandas.pydata.org/pandas-docs/stable/user_guide/indexing.html#returning-a-view-versus-a-copy\n",
      "  \n"
     ]
    }
   ],
   "source": [
    "df_no_invalid_smiles.drop_duplicates(subset =\"Name\", \n",
    "                     keep = 'first', inplace = True)"
   ]
  },
  {
   "cell_type": "code",
   "execution_count": 397,
   "metadata": {},
   "outputs": [],
   "source": [
    "df_smiles.to_csv('hsbd-smiles1.csv',index=False)\n",
    "df_no_empty_smiles.to_csv('hsbd-smiles2.csv',index=False)\n",
    "df_no_invalid_smiles.to_csv('hsbd-smiles3.csv',index=False)"
   ]
  },
  {
   "cell_type": "code",
   "execution_count": 393,
   "metadata": {},
   "outputs": [],
   "source": [
    "#df_no_empty_smiles['Smiles'].apply(lambda x: x.startswith('C')).head(10) \n",
    "df_no_invalid_smiles = df_no_empty_smiles[df_no_empty_smiles['Smiles'].values.astype('<U1') != '[']"
   ]
  },
  {
   "cell_type": "code",
   "execution_count": 394,
   "metadata": {},
   "outputs": [],
   "source": [
    "df_no_invalid_smiles.to_csv('hsbd-smiles3.csv',index=False)"
   ]
  },
  {
   "cell_type": "code",
   "execution_count": 423,
   "metadata": {},
   "outputs": [
    {
     "data": {
      "text/html": [
       "<div>\n",
       "<style scoped>\n",
       "    .dataframe tbody tr th:only-of-type {\n",
       "        vertical-align: middle;\n",
       "    }\n",
       "\n",
       "    .dataframe tbody tr th {\n",
       "        vertical-align: top;\n",
       "    }\n",
       "\n",
       "    .dataframe thead th {\n",
       "        text-align: right;\n",
       "    }\n",
       "</style>\n",
       "<table border=\"1\" class=\"dataframe\">\n",
       "  <thead>\n",
       "    <tr style=\"text-align: right;\">\n",
       "      <th></th>\n",
       "      <th>Name</th>\n",
       "      <th>Smiles</th>\n",
       "    </tr>\n",
       "  </thead>\n",
       "  <tbody>\n",
       "    <tr>\n",
       "      <th>0</th>\n",
       "      <td>HYOSCYAMINE</td>\n",
       "      <td>CN1C2CCC1CC(C2)OC(=O)C(CO)C3=CC=CC=C3</td>\n",
       "    </tr>\n",
       "    <tr>\n",
       "      <th>1</th>\n",
       "      <td>OXYPEUCEDANIN</td>\n",
       "      <td>CC1(C(O1)COC2=C3C=CC(=O)OC3=CC4=C2C=CO4)C</td>\n",
       "    </tr>\n",
       "    <tr>\n",
       "      <th>2</th>\n",
       "      <td>RETRONECINE</td>\n",
       "      <td>C1CN2CC=C(C2C1O)CO</td>\n",
       "    </tr>\n",
       "    <tr>\n",
       "      <th>3</th>\n",
       "      <td>1,1,1,2,3,3,3-HEPTAFLUOROPROPANE</td>\n",
       "      <td>C(C(F)(F)F)(C(F)(F)F)F</td>\n",
       "    </tr>\n",
       "    <tr>\n",
       "      <th>4</th>\n",
       "      <td>1,1,1,2-TETRACHLORO-2,2-DIFLUOROETHANE</td>\n",
       "      <td>C(C(Cl)(Cl)Cl)(F)(F)Cl</td>\n",
       "    </tr>\n",
       "  </tbody>\n",
       "</table>\n",
       "</div>"
      ],
      "text/plain": [
       "                                     Name  \\\n",
       "0                             HYOSCYAMINE   \n",
       "1                           OXYPEUCEDANIN   \n",
       "2                             RETRONECINE   \n",
       "3        1,1,1,2,3,3,3-HEPTAFLUOROPROPANE   \n",
       "4  1,1,1,2-TETRACHLORO-2,2-DIFLUOROETHANE   \n",
       "\n",
       "                                      Smiles  \n",
       "0      CN1C2CCC1CC(C2)OC(=O)C(CO)C3=CC=CC=C3  \n",
       "1  CC1(C(O1)COC2=C3C=CC(=O)OC3=CC4=C2C=CO4)C  \n",
       "2                         C1CN2CC=C(C2C1O)CO  \n",
       "3                     C(C(F)(F)F)(C(F)(F)F)F  \n",
       "4                     C(C(Cl)(Cl)Cl)(F)(F)Cl  "
      ]
     },
     "execution_count": 423,
     "metadata": {},
     "output_type": "execute_result"
    }
   ],
   "source": [
    "df_hsbd = pd.read_csv('hsbd-smiles.csv',header=None, usecols=[1,2], names=['Name', 'Smiles'])\n",
    "df_hsbd.head()"
   ]
  },
  {
   "cell_type": "code",
   "execution_count": 424,
   "metadata": {},
   "outputs": [
    {
     "data": {
      "text/html": [
       "<div>\n",
       "<style scoped>\n",
       "    .dataframe tbody tr th:only-of-type {\n",
       "        vertical-align: middle;\n",
       "    }\n",
       "\n",
       "    .dataframe tbody tr th {\n",
       "        vertical-align: top;\n",
       "    }\n",
       "\n",
       "    .dataframe thead th {\n",
       "        text-align: right;\n",
       "    }\n",
       "</style>\n",
       "<table border=\"1\" class=\"dataframe\">\n",
       "  <thead>\n",
       "    <tr style=\"text-align: right;\">\n",
       "      <th></th>\n",
       "      <th>Name</th>\n",
       "      <th>Smiles</th>\n",
       "    </tr>\n",
       "  </thead>\n",
       "  <tbody>\n",
       "    <tr>\n",
       "      <th>0</th>\n",
       "      <td>PRAZOSIN</td>\n",
       "      <td>COc1cc2nc(N3CCN(C(=O)c4ccco4)CC3)nc(N)c2cc1OC</td>\n",
       "    </tr>\n",
       "    <tr>\n",
       "      <th>1</th>\n",
       "      <td>NICOTINE</td>\n",
       "      <td>CN1CCC[C@H]1c1cccnc1</td>\n",
       "    </tr>\n",
       "    <tr>\n",
       "      <th>2</th>\n",
       "      <td>OFLOXACIN</td>\n",
       "      <td>CC1COc2c(N3CCN(C)CC3)c(F)cc3c(=O)c(C(=O)O)cn1c23</td>\n",
       "    </tr>\n",
       "    <tr>\n",
       "      <th>3</th>\n",
       "      <td>NALIDIXIC ACID</td>\n",
       "      <td>CCn1cc(C(=O)O)c(=O)c2ccc(C)nc21</td>\n",
       "    </tr>\n",
       "    <tr>\n",
       "      <th>4</th>\n",
       "      <td>INDOMETHACIN</td>\n",
       "      <td>COc1ccc2c(c1)c(CC(=O)O)c(C)n2C(=O)c1ccc(Cl)cc1</td>\n",
       "    </tr>\n",
       "  </tbody>\n",
       "</table>\n",
       "</div>"
      ],
      "text/plain": [
       "             Name                                            Smiles\n",
       "0        PRAZOSIN     COc1cc2nc(N3CCN(C(=O)c4ccco4)CC3)nc(N)c2cc1OC\n",
       "1        NICOTINE                              CN1CCC[C@H]1c1cccnc1\n",
       "2       OFLOXACIN  CC1COc2c(N3CCN(C)CC3)c(F)cc3c(=O)c(C(=O)O)cn1c23\n",
       "3  NALIDIXIC ACID                   CCn1cc(C(=O)O)c(=O)c2ccc(C)nc21\n",
       "4    INDOMETHACIN    COc1ccc2c(c1)c(CC(=O)O)c(C)n2C(=O)c1ccc(Cl)cc1"
      ]
     },
     "execution_count": 424,
     "metadata": {},
     "output_type": "execute_result"
    }
   ],
   "source": [
    "df_chembl_approved = pd.read_csv('Chembl-approved-smiles.csv',header=None, usecols=[1,2], names=['Name', 'Smiles'])\n",
    "df_chembl_approved.head()"
   ]
  },
  {
   "cell_type": "code",
   "execution_count": 425,
   "metadata": {},
   "outputs": [],
   "source": [
    "def dataframe_difference(df1, df2, which=None):\n",
    "    \"\"\"Find rows which are different between two DataFrames.\"\"\"\n",
    "    comparison_df = df1.merge(df2,\n",
    "                              indicator=True,\n",
    "                              how='outer')\n",
    "    if which is None:\n",
    "        diff_df = comparison_df[comparison_df['Smiles'] != 'both']\n",
    "    else:\n",
    "        diff_df = comparison_df[comparison_df['Smiles'] == which]\n",
    "    diff_df.to_csv('diff.csv')\n",
    "    return diff_df"
   ]
  },
  {
   "cell_type": "code",
   "execution_count": 426,
   "metadata": {},
   "outputs": [],
   "source": [
    "df_merged = dataframe_difference(df_hsbd, df_chembl_approved)"
   ]
  },
  {
   "cell_type": "code",
   "execution_count": 429,
   "metadata": {},
   "outputs": [
    {
     "data": {
      "text/plain": [
       "11"
      ]
     },
     "execution_count": 429,
     "metadata": {},
     "output_type": "execute_result"
    }
   ],
   "source": [
    "df_filter_both_merged = df_merged['_merge'] == 'both'\n",
    "\n",
    "df_both_merged = df_merged[df_filter_both_merged]\n",
    "len(df_both_merged)"
   ]
  },
  {
   "cell_type": "code",
   "execution_count": 436,
   "metadata": {},
   "outputs": [
    {
     "data": {
      "text/html": [
       "<div>\n",
       "<style scoped>\n",
       "    .dataframe tbody tr th:only-of-type {\n",
       "        vertical-align: middle;\n",
       "    }\n",
       "\n",
       "    .dataframe tbody tr th {\n",
       "        vertical-align: top;\n",
       "    }\n",
       "\n",
       "    .dataframe thead th {\n",
       "        text-align: right;\n",
       "    }\n",
       "</style>\n",
       "<table border=\"1\" class=\"dataframe\">\n",
       "  <thead>\n",
       "    <tr style=\"text-align: right;\">\n",
       "      <th></th>\n",
       "      <th>Name</th>\n",
       "      <th>Smiles</th>\n",
       "      <th>_merge</th>\n",
       "    </tr>\n",
       "  </thead>\n",
       "  <tbody>\n",
       "    <tr>\n",
       "      <th>763</th>\n",
       "      <td>ACAMPROSATE</td>\n",
       "      <td>CC(=O)NCCCS(=O)(=O)O</td>\n",
       "      <td>both</td>\n",
       "    </tr>\n",
       "    <tr>\n",
       "      <th>1426</th>\n",
       "      <td>DECAMETHONIUM</td>\n",
       "      <td>C[N+](C)(C)CCCCCCCCCC[N+](C)(C)C</td>\n",
       "      <td>both</td>\n",
       "    </tr>\n",
       "    <tr>\n",
       "      <th>1651</th>\n",
       "      <td>DISULFIRAM</td>\n",
       "      <td>CCN(CC)C(=S)SSC(=S)N(CC)CC</td>\n",
       "      <td>both</td>\n",
       "    </tr>\n",
       "    <tr>\n",
       "      <th>1910</th>\n",
       "      <td>FORMALDEHYDE</td>\n",
       "      <td>C=O</td>\n",
       "      <td>both</td>\n",
       "    </tr>\n",
       "    <tr>\n",
       "      <th>2105</th>\n",
       "      <td>IODINE</td>\n",
       "      <td>II</td>\n",
       "      <td>both</td>\n",
       "    </tr>\n",
       "    <tr>\n",
       "      <th>2303</th>\n",
       "      <td>MECHLORETHAMINE</td>\n",
       "      <td>CN(CCCl)CCCl</td>\n",
       "      <td>both</td>\n",
       "    </tr>\n",
       "    <tr>\n",
       "      <th>2355</th>\n",
       "      <td>METHENAMINE</td>\n",
       "      <td>C1N2CN3CN1CN(C2)C3</td>\n",
       "      <td>both</td>\n",
       "    </tr>\n",
       "    <tr>\n",
       "      <th>2597</th>\n",
       "      <td>NITROGEN</td>\n",
       "      <td>N#N</td>\n",
       "      <td>both</td>\n",
       "    </tr>\n",
       "    <tr>\n",
       "      <th>2721</th>\n",
       "      <td>OXYGEN</td>\n",
       "      <td>O=O</td>\n",
       "      <td>both</td>\n",
       "    </tr>\n",
       "    <tr>\n",
       "      <th>2888</th>\n",
       "      <td>PIPERAZINE</td>\n",
       "      <td>C1CNCCN1</td>\n",
       "      <td>both</td>\n",
       "    </tr>\n",
       "    <tr>\n",
       "      <th>3530</th>\n",
       "      <td>WATER</td>\n",
       "      <td>O</td>\n",
       "      <td>both</td>\n",
       "    </tr>\n",
       "  </tbody>\n",
       "</table>\n",
       "</div>"
      ],
      "text/plain": [
       "                 Name                            Smiles _merge\n",
       "763       ACAMPROSATE              CC(=O)NCCCS(=O)(=O)O   both\n",
       "1426    DECAMETHONIUM  C[N+](C)(C)CCCCCCCCCC[N+](C)(C)C   both\n",
       "1651       DISULFIRAM        CCN(CC)C(=S)SSC(=S)N(CC)CC   both\n",
       "1910     FORMALDEHYDE                               C=O   both\n",
       "2105           IODINE                                II   both\n",
       "2303  MECHLORETHAMINE                      CN(CCCl)CCCl   both\n",
       "2355      METHENAMINE                C1N2CN3CN1CN(C2)C3   both\n",
       "2597         NITROGEN                               N#N   both\n",
       "2721           OXYGEN                               O=O   both\n",
       "2888       PIPERAZINE                          C1CNCCN1   both\n",
       "3530            WATER                                 O   both"
      ]
     },
     "execution_count": 436,
     "metadata": {},
     "output_type": "execute_result"
    }
   ],
   "source": [
    "df_both_merged.head(11)"
   ]
  }
 ],
 "metadata": {
  "kernelspec": {
   "display_name": "Python 3",
   "language": "python",
   "name": "python3"
  },
  "language_info": {
   "codemirror_mode": {
    "name": "ipython",
    "version": 3
   },
   "file_extension": ".py",
   "mimetype": "text/x-python",
   "name": "python",
   "nbconvert_exporter": "python",
   "pygments_lexer": "ipython3",
   "version": "3.6.9"
  }
 },
 "nbformat": 4,
 "nbformat_minor": 2
}
